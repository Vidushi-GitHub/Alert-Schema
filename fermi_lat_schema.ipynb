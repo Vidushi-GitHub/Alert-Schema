{
 "cells": [
  {
   "cell_type": "code",
   "execution_count": 183,
   "metadata": {},
   "outputs": [],
   "source": [
    "# Step 1: Read the Fermi LAT notice text\n",
    "import requests\n",
    "from bs4 import BeautifulSoup\n",
    "import urllib.request\n",
    "\n",
    "# Step 2: Create the json example\n",
    "import re\n",
    "import json\n",
    "\n",
    "# Step 3: Create the json schema\n",
    "import genson\n",
    "\n",
    "# Step 4: Validate example against schema\n",
    "import jsonschema"
   ]
  },
  {
   "cell_type": "code",
   "execution_count": 184,
   "metadata": {
    "scrolled": true
   },
   "outputs": [
    {
     "name": "stdout",
     "output_type": "stream",
     "text": [
      "TITLE:           GCN/FERMI NOTICE\n",
      "NOTICE_DATE:     Thu 23 Feb 23 15:49:32 UT\n",
      "NOTICE_TYPE:     Fermi-LAT Monitor\n",
      "SOURCE_OBJ:      BLLac_86400.png\n",
      "REF_NUM:         1677167372\n",
      "RA:              330.680d {+22h 02m 43s} (J2000),\n",
      "                 330.919d {+22h 03m 41s} (current),\n",
      "                 330.164d {+22h 00m 39s} (1950)\n",
      "DEC:             +42.278d {+42d 16' 40\"} (J2000),\n",
      "                 +42.390d {+42d 23' 25\"} (current),\n",
      "                 +42.036d {+42d 02' 09\"} (1950)\n",
      "CURR_FLUX:       1.70e-06 +- 6.50e-08 [ph/cm2/sec]\n",
      "BASE_FLUX:       6.99e-07 +- 1.59e-07 [ph/cm2/sec]\n",
      "SIGNIFICANCE:    5.59 [sigma]\n",
      "TIME_SCALE:      0  {0=1day, 1=1week}\n",
      "ENERGY_BAND:     0.1 - 300.0 [GeV]\n",
      "OUTBURST_DATE:   19997 TJD;    53 DOY;   23/02/22 (yy/mm/dd)\n",
      "OUTBURST_TIME:   43200.00 SOD {12:00:00.00} UT\n",
      "SOLN_STATUS:     0x0\n",
      "LC_URL:          http://fermi.gsfc.nasa.gov/FTP/glast/data/lat/catalogs/asp/current/lightcurves/BLLac_86400.png\n",
      "SUN_POSTN:       336.62d {+22h 26m 28s}   -9.76d {-09d 45' 42\"}\n",
      "SUN_DIST:         52.41 [deg]   Sun_angle= 0.4 [hr] (West of Sun)\n",
      "MOON_POSTN:       19.50d {+01h 17m 59s}   +6.71d {+06d 42' 18\"}\n",
      "MOON_DIST:        55.67 [deg]\n",
      "MOON_ILLUM:      15 [%]\n",
      "GAL_COORDS:       92.59,-10.44 [deg] galactic lon,lat of the burst (or transient)\n",
      "ECL_COORDS:      354.26, 49.58 [deg] ecliptic lon,lat of the burst (or transient)\n",
      "COMMENTS:        Fermi-LAT Monitor flare alert.  \n",
      "COMMENTS:        This Notice was ground-generated -- not flight-generated.  \n",
      "COMMENTS:          \n",
      " \n",
      " \n",
      "\n"
     ]
    }
   ],
   "source": [
    "## Step 1: Read Fermi LAT GCN notice from the url, ignore the first line with \"////...\"\n",
    "# To read text from a URL using Python, requests module is used.\n",
    "url = 'https://gcn.gsfc.nasa.gov/fermi_lat_mon_trans.html'\n",
    "\n",
    "html = requests.get(url).text\n",
    "soup = BeautifulSoup(html, 'html.parser')\n",
    "\n",
    "table = soup.find('table')\n",
    "rows = table.find_all('tr')\n",
    "\n",
    "ref_nums = []\n",
    "full_url = []\n",
    "for row in rows:\n",
    "    cols = row.find_all('a')\n",
    "    if cols:\n",
    "        ref_number = cols[0].text.strip()\n",
    "        ref_nums.append(ref_number)\n",
    "        \n",
    "        # URL of each Fermi LAT notice\n",
    "        full_url.append(\"https://gcn.gsfc.nasa.gov/other/\"+str(ref_number)+\"_fermi.txt\")\n",
    "    \n",
    "        \n",
    "url_ = full_url[0]\n",
    "\n",
    "match_slash = []\n",
    "with urllib.request.urlopen(url_) as f:\n",
    "    text = f.read().decode('utf-8')\n",
    "    lines = text.split(\"\\n\")\n",
    "    filtered_lines = [line for line in lines if line != \"//////////////////////////////////////////////////////////////////////\"]\n",
    "    new_text = \"\\n\".join(filtered_lines)\n",
    "\n",
    "print(new_text)"
   ]
  },
  {
   "cell_type": "code",
   "execution_count": 185,
   "metadata": {},
   "outputs": [
    {
     "name": "stdout",
     "output_type": "stream",
     "text": [
      "{'TITLE': 'GCN/FERMI NOTICE', 'NOTICE_DATE': 'Thu 23 Feb 23 15:49:32 UT', 'NOTICE_TYPE': 'Fermi-LAT Monitor', 'SOURCE_OBJ': 'BLLac_86400.png', 'REF_NUM': '1677167372', 'RA': '330.680d {+22h 02m 43s} (J2000),', 'DEC': '+42.278d {+42d 16\\' 40\"} (J2000),', 'CURR_FLUX': '1.70e-06 +- 6.50e-08 [ph/cm2/sec]', 'BASE_FLUX': '6.99e-07 +- 1.59e-07 [ph/cm2/sec]', 'SIGNIFICANCE': '5.59 [sigma]', 'TIME_SCALE': '0  {0=1day, 1=1week}', 'ENERGY_BAND': '0.1 - 300.0 [GeV]', 'OUTBURST_DATE': '19997 TJD;    53 DOY;   23/02/22 (yy/mm/dd)', 'OUTBURST_TIME': '43200.00 SOD {12:00:00.00} UT', 'SOLN_STATUS': '0x0', 'LC_URL': 'http://fermi.gsfc.nasa.gov/FTP/glast/data/lat/catalogs/asp/current/lightcurves/BLLac_86400.png', 'SUN_POSTN': '336.62d {+22h 26m 28s}   -9.76d {-09d 45\\' 42\"}', 'SUN_DIST': '52.41 [deg]   Sun_angle= 0.4 [hr] (West of Sun)', 'MOON_POSTN': '19.50d {+01h 17m 59s}   +6.71d {+06d 42\\' 18\"}', 'MOON_DIST': '55.67 [deg]', 'MOON_ILLUM': '15 [%]', 'GAL_COORDS': '92.59,-10.44 [deg] galactic lon,lat of the burst (or transient)', 'ECL_COORDS': '354.26, 49.58 [deg] ecliptic lon,lat of the burst (or transient)', 'COMMENTS': ''}\n",
      "\n",
      " \n",
      "\n",
      "{'$id': 'http://example.com/schema', 'type': 'object', 'properties': {'TITLE': {'type': 'string'}, 'NOTICE_DATE': {'type': 'string'}, 'NOTICE_TYPE': {'type': 'string'}, 'SOURCE_OBJ': {'type': 'string'}, 'REF_NUM': {'type': 'string'}, 'RA': {'type': 'string'}, 'DEC': {'type': 'string'}, 'CURR_FLUX': {'type': 'string'}, 'BASE_FLUX': {'type': 'string'}, 'SIGNIFICANCE': {'type': 'string'}, 'TIME_SCALE': {'type': 'string'}, 'ENERGY_BAND': {'type': 'string'}, 'OUTBURST_DATE': {'type': 'string'}, 'OUTBURST_TIME': {'type': 'string'}, 'SOLN_STATUS': {'type': 'string'}, 'LC_URL': {'type': 'string'}, 'SUN_POSTN': {'type': 'string'}, 'SUN_DIST': {'type': 'string'}, 'MOON_POSTN': {'type': 'string'}, 'MOON_DIST': {'type': 'string'}, 'MOON_ILLUM': {'type': 'string'}, 'GAL_COORDS': {'type': 'string'}, 'ECL_COORDS': {'type': 'string'}, 'COMMENTS': {'type': 'string'}}, 'required': ['BASE_FLUX', 'COMMENTS', 'CURR_FLUX', 'DEC', 'ECL_COORDS', 'ENERGY_BAND', 'GAL_COORDS', 'LC_URL', 'MOON_DIST', 'MOON_ILLUM', 'MOON_POSTN', 'NOTICE_DATE', 'NOTICE_TYPE', 'OUTBURST_DATE', 'OUTBURST_TIME', 'RA', 'REF_NUM', 'SIGNIFICANCE', 'SOLN_STATUS', 'SOURCE_OBJ', 'SUN_DIST', 'SUN_POSTN', 'TIME_SCALE', 'TITLE']}\n"
     ]
    }
   ],
   "source": [
    "## Step 2: Convert the Fermi LAT GCN notice into json example file; fermi_lat_example.json\n",
    "# extract key-value pairs using regex\n",
    "pattern = r'([A-Z_]+):\\s+(.*)'\n",
    "matches = re.findall(pattern, new_text)\n",
    "\n",
    "# create dictionary\n",
    "d = {}\n",
    "for match in matches:\n",
    "    key = match[0]\n",
    "    value = match[1]\n",
    "    d[key] = value\n",
    "\n",
    "# convert dictionary to JSON and write to file\n",
    "with open('fermi_lat_example.json', 'w') as f:\n",
    "    json.dump(d, f, indent=4)\n",
    "    \n",
    "# load the JSON example file\n",
    "with open('fermi_lat_example.json') as f:\n",
    "    example_data = json.load(f)\n",
    "\n",
    "print(example_data)\n",
    "print('\\n \\n')\n",
    "\n",
    "## Step 3: Generating json schema using genson, for the json example file\n",
    "# Create a Genson schema object\n",
    "schema = genson.Schema()\n",
    "\n",
    "# Add the data to the schema object\n",
    "schema.add_object(example_data)\n",
    "\n",
    "# Add $id and $schema properties to the schema object\n",
    "schema.add_schema({\"$id\": \"http://example.com/schema\", \"$schema\": \"http://json-schema.org/draft-07/schema#\"})\n",
    "\n",
    "# Generate the JSON schema\n",
    "json_schema = schema.to_json(indent=4)\n",
    "\n",
    "# Write the JSON schema to a file\n",
    "with open(\"fermi_lat_schema.json\", \"w\") as f:\n",
    "    json.dump(json.loads(json_schema), f, indent=4)\n",
    "    \n",
    "# load the JSON schema file\n",
    "with open('fermi_lat_schema.json') as f:\n",
    "    schema_data = json.load(f)\n",
    "\n",
    "print(schema_data)"
   ]
  },
  {
   "cell_type": "code",
   "execution_count": 186,
   "metadata": {},
   "outputs": [
    {
     "name": "stdout",
     "output_type": "stream",
     "text": [
      "JSON example data is valid against the schema!\n"
     ]
    }
   ],
   "source": [
    "## Step 4: validate the schema example against the json schema\n",
    "from jsonschema.validators import Draft7Validator\n",
    "\n",
    "def validate_json(json_file_path, schema_file_path):\n",
    "    with open(schema_file_path) as f:\n",
    "        schema = json.load(f)\n",
    "\n",
    "    with open(json_file_path) as f:\n",
    "        json_data = json.load(f)\n",
    "\n",
    "    # Create a JSON schema validator from the schema data\n",
    "    schema_validator = Draft7Validator(schema_data)\n",
    "    \n",
    "    # Validate the example data against the schema\n",
    "    try:\n",
    "        schema_validator.validate(example_data)\n",
    "        print(\"JSON example data is valid against the schema!\")\n",
    "    except jsonschema.exceptions.ValidationError as e:\n",
    "        print(\"JSON example data is not valid against the schema:\")\n",
    "        print(e)\n",
    "\n",
    "if __name__ == \"__main__\":\n",
    "    json_file_path = \"fermi_lat_example.json\"\n",
    "    schema_file_path = \"fermi_lat_schema.json\"\n",
    "    validate_json(json_file_path, schema_file_path)\n",
    "\n"
   ]
  },
  {
   "cell_type": "code",
   "execution_count": null,
   "metadata": {},
   "outputs": [],
   "source": []
  }
 ],
 "metadata": {
  "kernelspec": {
   "display_name": "Python 3 (ipykernel)",
   "language": "python",
   "name": "python3"
  },
  "language_info": {
   "codemirror_mode": {
    "name": "ipython",
    "version": 3
   },
   "file_extension": ".py",
   "mimetype": "text/x-python",
   "name": "python",
   "nbconvert_exporter": "python",
   "pygments_lexer": "ipython3",
   "version": "3.10.6"
  },
  "vscode": {
   "interpreter": {
    "hash": "610c699f0cd8c4f129acd9140687fff6866bed0eb8e82f249fc8848b827b628c"
   }
  }
 },
 "nbformat": 4,
 "nbformat_minor": 2
}
